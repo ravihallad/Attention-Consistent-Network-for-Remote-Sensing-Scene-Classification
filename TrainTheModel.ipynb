{
 "cells": [
  {
   "cell_type": "code",
   "execution_count": 4,
   "metadata": {},
   "outputs": [],
   "source": [
    "import numpy as np\n",
    "import scipy\n",
    "import os\n",
    "from keras.models import Sequential\n",
    "from keras.layers import Dense, Dropout, Flatten\n",
    "from keras.layers import Conv2D, MaxPooling2D\n",
    "from keras.optimizers import SGD\n",
    "from keras import backend as K\n",
    "K.common.image_dim_ordering()\n",
    "from keras.utils import np_utils\n",
    "#from sklearn.cross_validation import StratifiedKFold"
   ]
  },
  {
   "cell_type": "code",
   "execution_count": 5,
   "metadata": {},
   "outputs": [
    {
     "name": "stdout",
     "output_type": "stream",
     "text": [
      "C:\\Users\\egc\\shalu\\CMP\\Kalpana\\Classification-of-Hyperspectral-Image-master\n"
     ]
    }
   ],
   "source": [
    "PATH = os.getcwd()\n",
    "print (PATH)"
   ]
  },
  {
   "cell_type": "code",
   "execution_count": 6,
   "metadata": {},
   "outputs": [],
   "source": [
    "# Load the Global values (windowSize, numPCAcomponents, testRatio) from the text file global_variables.txt\n",
    "myFile = open('global_variables.txt', 'r') \n",
    "file = myFile.readlines()[:]\n",
    "\n",
    "\n",
    "for line in file:\n",
    "\n",
    "    if line[0:3] == \"win\":\n",
    "\n",
    "        ds = line.find('=')\n",
    "        windowSize = int(line[ds+1:-1],10)\n",
    "\n",
    "    elif line[0:3] == \"num\":\n",
    "\n",
    "        ds = line.find('=')\n",
    "        numPCAcomponents = int(line[ds+2:-1],10)\n",
    "\n",
    "    else:\n",
    "\n",
    "        ds = line.find('=')\n",
    "        testRatio = float(line[ds+1:])\n"
   ]
  },
  {
   "cell_type": "code",
   "execution_count": 3,
   "metadata": {},
   "outputs": [],
   "source": [
    "# Global Variables\n",
    "#windowSize = 5\n",
    "#numPCAcomponents = 30\n",
    "#testRatio = 0.25"
   ]
  },
  {
   "cell_type": "markdown",
   "metadata": {},
   "source": [
    "# Load Training Dataset"
   ]
  },
  {
   "cell_type": "code",
   "execution_count": 7,
   "metadata": {},
   "outputs": [],
   "source": [
    "X_train = np.load(\"X_trainPatches_\" + str(windowSize) + \"PCA\" + str(numPCAcomponents) + \"testRatio\" + str(testRatio)  + \".npy\")\n",
    "\n",
    "y_train = np.load(\"y_trainPatches_\" + str(windowSize) + \"PCA\" + str(numPCAcomponents) + \"testRatio\" + str(testRatio) + \".npy\")"
   ]
  },
  {
   "cell_type": "code",
   "execution_count": 8,
   "metadata": {},
   "outputs": [],
   "source": [
    "# Reshape into (numberofsamples, channels, height, width)\n",
    "X_train = np.reshape(X_train, (X_train.shape[0],X_train.shape[3], X_train.shape[1], X_train.shape[2]))"
   ]
  },
  {
   "cell_type": "code",
   "execution_count": 9,
   "metadata": {},
   "outputs": [],
   "source": [
    "# convert class labels to on-hot encoding\n",
    "y_train = np_utils.to_categorical(y_train)"
   ]
  },
  {
   "cell_type": "code",
   "execution_count": 10,
   "metadata": {},
   "outputs": [
    {
     "name": "stdout",
     "output_type": "stream",
     "text": [
      "(30, 5, 5)\n"
     ]
    }
   ],
   "source": [
    "# Define the input shape \n",
    "input_shape= X_train[0].shape\n",
    "print(input_shape)"
   ]
  },
  {
   "cell_type": "code",
   "execution_count": 11,
   "metadata": {},
   "outputs": [],
   "source": [
    "# number of filters\n",
    "C1 = 3*numPCAcomponents"
   ]
  },
  {
   "cell_type": "code",
   "execution_count": 12,
   "metadata": {},
   "outputs": [],
   "source": [
    "# Define the model\n",
    "\"CNN Algorithm\"\n",
    "model = Sequential()\n",
    "\n",
    "model.add(Conv2D(C1, (3, 3), activation='relu', input_shape=input_shape))\n",
    "model.add(Conv2D(3*C1, (3, 3), activation='relu'))\n",
    "model.add(Dropout(0.25))\n",
    "\n",
    "\n",
    "\n",
    "model.add(Flatten())\n",
    "model.add(Dense(6*numPCAcomponents, activation='relu'))\n",
    "model.add(Dropout(0.5))\n",
    "model.add(Dense(16, activation='softmax'))"
   ]
  },
  {
   "cell_type": "code",
   "execution_count": 13,
   "metadata": {},
   "outputs": [],
   "source": [
    "sgd = SGD(lr=0.0001, decay=1e-6, momentum=0.9, nesterov=True)\n",
    "model.compile(loss='categorical_crossentropy', optimizer=sgd, metrics=['accuracy'])"
   ]
  },
  {
   "cell_type": "code",
   "execution_count": 17,
   "metadata": {},
   "outputs": [
    {
     "name": "stdout",
     "output_type": "stream",
     "text": [
      "Epoch 1/30\n",
      "29685/29685 [==============================] - 144s 5ms/step - loss: 0.2978 - accuracy: 0.9045\n",
      "Epoch 2/30\n",
      "29685/29685 [==============================] - 149s 5ms/step - loss: 0.2853 - accuracy: 0.9088\n",
      "Epoch 3/30\n",
      "29685/29685 [==============================] - 144s 5ms/step - loss: 0.2750 - accuracy: 0.9097\n",
      "Epoch 4/30\n",
      "29685/29685 [==============================] - 108s 4ms/step - loss: 0.2620 - accuracy: 0.9155: 1:15 - l - ETA: 52s - loss: 0.2674 - accuracy: 0.913 - ETA: 52s - loss: 0.2675 - accuracy: 0.913 - ETA: 52s - loss: 0.2673 - accu - ETA: 50s - loss: 0.2672 - accurac - ETA: 48s - loss: 0.2668  - ETA: 46s - loss: 0.2654 - accuracy: 0.914 - ETA: 46s - loss: 0.2655 - accuracy:  - ETA: 45s - loss: 0. - ETA: 41s - loss: 0.2645 - accur - ETA: 40s - loss: 0.2645 - accuracy: 0 - ETA: 39s - loss: 0.2642 - ETA: 36s - loss: 0.2628 - accur - ETA: 35s - loss: 0.2635 - accuracy:  - ETA: 34s - loss: 0.2636 - accura - ETA: 33s - l - ETA: 23s - loss: 0.2631 - accuracy: 0.91 - ETA: 23s  - ETA: 19s - loss: 0.2633 - accurac - ETA: 0s - loss: 0.2621 - accu\n",
      "Epoch 5/30\n",
      "29685/29685 [==============================] - 139s 5ms/step - loss: 0.2518 - accuracy: 0.9179\n",
      "Epoch 6/30\n",
      "29685/29685 [==============================] - 118s 4ms/step - loss: 0.2388 - accuracy: 0.9240\n",
      "Epoch 7/30\n",
      "29685/29685 [==============================] - 129s 4ms/step - loss: 0.2301 - accuracy: 0.9253\n",
      "Epoch 8/30\n",
      "29685/29685 [==============================] - 152s 5ms/step - loss: 0.2239 - accuracy: 0.9287\n",
      "Epoch 9/30\n",
      "29685/29685 [==============================] - 201s 7ms/step - loss: 0.2148 - accuracy: 0.9308\n",
      "Epoch 10/30\n",
      "29685/29685 [==============================] - 162s 5ms/step - loss: 0.2055 - accuracy: 0.9339\n",
      "Epoch 11/30\n",
      "29685/29685 [==============================] - 159s 5ms/step - loss: 0.2011 - accuracy: 0.9338\n",
      "Epoch 12/30\n",
      "29685/29685 [==============================] - 175s 6ms/step - loss: 0.1939 - accuracy: 0.9393\n",
      "Epoch 13/30\n",
      "29685/29685 [==============================] - 156s 5ms/step - loss: 0.1890 - accuracy: 0.9394\n",
      "Epoch 14/30\n",
      "29685/29685 [==============================] - 123s 4ms/step - loss: 0.1795 - accuracy: 0.9432\n",
      "Epoch 15/30\n",
      "29685/29685 [==============================] - 118s 4ms/step - loss: 0.1763 - accuracy: 0.9444\n",
      "Epoch 16/30\n",
      "29685/29685 [==============================] - 123s 4ms/step - loss: 0.1721 - accuracy: 0.9446\n",
      "Epoch 17/30\n",
      "29685/29685 [==============================] - 142s 5ms/step - loss: 0.1653 - accuracy: 0.9484\n",
      "Epoch 18/30\n",
      "29685/29685 [==============================] - 204s 7ms/step - loss: 0.1645 - accuracy: 0.9471\n",
      "Epoch 19/30\n",
      "29685/29685 [==============================] - 170s 6ms/step - loss: 0.1580 - accuracy: 0.9503\n",
      "Epoch 20/30\n",
      "29685/29685 [==============================] - 113s 4ms/step - loss: 0.1506 - accuracy: 0.9520\n",
      "Epoch 21/30\n",
      "29685/29685 [==============================] - 112s 4ms/step - loss: 0.1487 - accuracy: 0.9531\n",
      "Epoch 22/30\n",
      "29685/29685 [==============================] - 114s 4ms/step - loss: 0.1439 - accuracy: 0.9544\n",
      "Epoch 23/30\n",
      "29685/29685 [==============================] - 175s 6ms/step - loss: 0.1390 - accuracy: 0.9555\n",
      "Epoch 24/30\n",
      "29685/29685 [==============================] - 125s 4ms/step - loss: 0.1347 - accuracy: 0.9573\n",
      "Epoch 25/30\n",
      "29685/29685 [==============================] - 157s 5ms/step - loss: 0.1317 - accuracy: 0.9586\n",
      "Epoch 26/30\n",
      "29685/29685 [==============================] - 189s 6ms/step - loss: 0.1306 - accuracy: 0.9580\n",
      "Epoch 27/30\n",
      "29685/29685 [==============================] - 165s 6ms/step - loss: 0.1278 - accuracy: 0.95942s - los\n",
      "Epoch 28/30\n",
      "29685/29685 [==============================] - 161s 5ms/step - loss: 0.1232 - accuracy: 0.9619\n",
      "Epoch 29/30\n",
      "29685/29685 [==============================] - 152s 5ms/step - loss: 0.1176 - accuracy: 0.9622\n",
      "Epoch 30/30\n",
      "29685/29685 [==============================] - 143s 5ms/step - loss: 0.1174 - accuracy: 0.9630\n"
     ]
    },
    {
     "data": {
      "text/plain": [
       "<keras.callbacks.callbacks.History at 0xf4ef198>"
      ]
     },
     "execution_count": 17,
     "metadata": {},
     "output_type": "execute_result"
    }
   ],
   "source": [
    "model.fit(X_train, y_train, batch_size=32, epochs=30)"
   ]
  },
  {
   "cell_type": "code",
   "execution_count": 15,
   "metadata": {},
   "outputs": [],
   "source": [
    "import h5py\n",
    "from keras.models import load_model"
   ]
  },
  {
   "cell_type": "code",
   "execution_count": 16,
   "metadata": {},
   "outputs": [],
   "source": [
    "model.save('my_model' + str(windowSize) + 'PCA' + str(numPCAcomponents) + \"testRatio\" + str(testRatio) + '.h5')"
   ]
  },
  {
   "cell_type": "code",
   "execution_count": null,
   "metadata": {
    "collapsed": true
   },
   "outputs": [],
   "source": []
  }
 ],
 "metadata": {
  "kernelspec": {
   "display_name": "Python 3",
   "language": "python",
   "name": "python3"
  },
  "language_info": {
   "codemirror_mode": {
    "name": "ipython",
    "version": 3
   },
   "file_extension": ".py",
   "mimetype": "text/x-python",
   "name": "python",
   "nbconvert_exporter": "python",
   "pygments_lexer": "ipython3",
   "version": "3.7.3"
  }
 },
 "nbformat": 4,
 "nbformat_minor": 2
}
